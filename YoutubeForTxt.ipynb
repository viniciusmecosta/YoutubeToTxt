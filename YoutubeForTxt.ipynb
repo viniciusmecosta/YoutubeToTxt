{
 "cells": [
  {
   "cell_type": "code",
   "execution_count": null,
   "metadata": {},
   "outputs": [],
   "source": [
    "!pip install yt-dlp\n",
    "!pip install faster-whisper\n",
    "!apt-get install ffmpeg -y"
   ]
  },
  {
   "cell_type": "code",
   "execution_count": null,
   "metadata": {},
   "outputs": [],
   "source": [
    "import os\n",
    "import re\n",
    "import warnings\n",
    "import logging\n",
    "from typing import List, Union\n",
    "import yt_dlp\n",
    "from faster_whisper import WhisperModel\n",
    "import sys"
   ]
  },
  {
   "cell_type": "code",
   "execution_count": null,
   "metadata": {},
   "outputs": [],
   "source": [
    "logging.basicConfig(\n",
    "    level=logging.INFO,\n",
    "    format='%(asctime)s - %(levelname)s - %(message)s',\n",
    "    handlers=[logging.StreamHandler(sys.stdout)],\n",
    "    force=True\n",
    ")\n",
    "logger = logging.getLogger(__name__)"
   ]
  },
  {
   "cell_type": "code",
   "execution_count": null,
   "metadata": {},
   "outputs": [],
   "source": [
    "def sanitize_filename(filename: str) -> str:\n",
    "    filename = re.sub(r'[^a-zA-Z0-9_-]', '_', filename)\n",
    "    return filename"
   ]
  },
  {
   "cell_type": "code",
   "execution_count": null,
   "metadata": {},
   "outputs": [],
   "source": [
    "class YouTubeDownloader:\n",
    "  def __init__(self, download_dir: str, cookies_file: str = None):\n",
    "    self.download_dir = download_dir\n",
    "    self.cookies_file = cookies_file\n",
    "    os.makedirs(self.download_dir, exist_ok=True)\n",
    "\n",
    "  def download_audio(self, urls: List[str]) -> List[str]:\n",
    "    downloaded_files = []\n",
    "    ydl_opts = {\n",
    "        'format': 'bestaudio/best',\n",
    "        'postprocessors': [{\n",
    "            'key': 'FFmpegExtractAudio',\n",
    "            'preferredcodec': 'mp3',\n",
    "            'preferredquality': '64',\n",
    "        }],\n",
    "        'outtmpl': os.path.join(self.download_dir, '%(title)s.%(ext)s'),\n",
    "        'quiet': True,\n",
    "        'noprogress': True,\n",
    "        'cookiefile': self.cookies_file if self.cookies_file else None,\n",
    "        'retries': 5,\n",
    "        'timeout': 60,\n",
    "    }\n",
    "\n",
    "    for url in urls:\n",
    "        try:\n",
    "            with yt_dlp.YoutubeDL(ydl_opts) as ydl:\n",
    "                logger.info(f\"Baixando: {url}\")\n",
    "                info = ydl.extract_info(url, download=True)\n",
    "                video_title = info.get(\"title\", \"unknown\")\n",
    "                filename = sanitize_filename(video_title) + \".mp3\"\n",
    "                old_path = os.path.join(self.download_dir, info['title'] + \".mp3\")\n",
    "                new_path = os.path.join(self.download_dir, filename)\n",
    "                if os.path.exists(old_path):\n",
    "                    os.rename(old_path, new_path)\n",
    "                downloaded_files.append(new_path)\n",
    "                logger.info(f\"Download concluído: {filename}\")\n",
    "        except Exception as e:\n",
    "            logger.error(f\"Erro ao baixar {url}: {e}\")\n",
    "\n",
    "    return downloaded_files"
   ]
  },
  {
   "cell_type": "code",
   "execution_count": null,
   "metadata": {},
   "outputs": [],
   "source": [
    "class Transcriber:\n",
    "  def __init__(self, folder_path: str):\n",
    "    warnings.filterwarnings(\"ignore\")\n",
    "    self.model = WhisperModel(\"small\", device=\"cpu\", compute_type=\"int8\")\n",
    "    # If you have a GPU, use the line below for better performance\n",
    "    # self.model = WhisperModel(\"small\", device=\"cuda\", compute_type=\"float16\")\n",
    "    self.folder_path = folder_path\n",
    "    self.transcripts_dir = os.path.join(folder_path, \"transcripts\")\n",
    "    os.makedirs(self.transcripts_dir, exist_ok=True)\n",
    "\n",
    "  def transcribe_audio(self, file_path: str) -> Union[str, None]:\n",
    "    try:\n",
    "        segments, info = self.model.transcribe(file_path, beam_size=5, language=\"pt\", condition_on_previous_text=False)\n",
    "        transcription = \"\\n\".join([segment.text for segment in segments])\n",
    "        return transcription\n",
    "    except RuntimeError as e:\n",
    "        logger.error(f\"Erro ao transcrever {file_path}: {e}\")\n",
    "        return None\n",
    "\n",
    "  def process_files(self):\n",
    "    for filename in os.listdir(self.folder_path):\n",
    "      file_path = os.path.join(self.folder_path, filename)\n",
    "      if os.path.isfile(file_path) and filename.endswith(('.mp3', '.mp4', '.mkv', '.avi')):\n",
    "          logger.info(f\"Transcrevendo: {filename}\")\n",
    "          transcription = self.transcribe_audio(file_path)\n",
    "          if transcription:\n",
    "              transcript_file = os.path.join(self.transcripts_dir, os.path.splitext(filename)[0] + \".txt\")\n",
    "              with open(transcript_file, 'w', encoding='utf-8') as f:\n",
    "                  f.write(transcription)\n",
    "              logger.info(f\"Transcrição salva: {transcript_file}\")\n",
    "          else:\n",
    "              logger.error(f\"Falha ao transcrever: {filename}\")\n"
   ]
  },
  {
   "cell_type": "code",
   "execution_count": null,
   "metadata": {},
   "outputs": [],
   "source": [
    "example = [\"https://www.youtube.com/watch?v=auXfAHHNSFo\",\n",
    "           \"https://www.youtube.com/watch?v=mAJIO-0p0iM\"\n",
    "           ]"
   ]
  },
  {
   "cell_type": "code",
   "execution_count": null,
   "metadata": {},
   "outputs": [],
   "source": [
    "# If you have a cookies file, instantiate the YouTubeDownloader like this:\n",
    "# downloader = YouTubeDownloader(\"destinationDirectory\", cookies_file=\"cookies.txt\")\n",
    "\n",
    "# Otherwise, instantiate it without cookies:\n",
    "downloader = YouTubeDownloader(\"destinationDirectory\")\n",
    "downloader.download_audio(example)"
   ]
  },
  {
   "cell_type": "code",
   "execution_count": null,
   "metadata": {},
   "outputs": [],
   "source": [
    "transcriber = Transcriber(\"destinationDirectory\")\n",
    "transcriber.process_files()"
   ]
  }
 ],
 "metadata": {
  "kernelspec": {
   "display_name": ".venv",
   "language": "python",
   "name": "python3"
  },
  "language_info": {
   "codemirror_mode": {
    "name": "ipython",
    "version": 3
   },
   "file_extension": ".py",
   "mimetype": "text/x-python",
   "name": "python",
   "nbconvert_exporter": "python",
   "pygments_lexer": "ipython3",
   "version": "3.11.9"
  }
 },
 "nbformat": 4,
 "nbformat_minor": 2
}
